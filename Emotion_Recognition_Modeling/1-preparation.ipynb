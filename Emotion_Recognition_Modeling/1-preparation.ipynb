{
 "cells": [
  {
   "cell_type": "code",
   "execution_count": 1,
   "metadata": {},
   "outputs": [],
   "source": [
    "import pandas as pd\n",
    "\n",
    "splits = {'train': 'split/train-00000-of-00001.parquet', 'validation': 'split/validation-00000-of-00001.parquet', 'test': 'split/test-00000-of-00001.parquet'}\n",
    "df_train = pd.read_parquet(\"hf://datasets/dair-ai/emotion/\" + splits[\"train\"])\n",
    "df_val = pd.read_parquet(\"hf://datasets/dair-ai/emotion/\" + splits[\"validation\"])\n",
    "df_test = pd.read_parquet(\"hf://datasets/dair-ai/emotion/\" + splits[\"test\"])"
   ]
  },
  {
   "cell_type": "code",
   "execution_count": null,
   "metadata": {},
   "outputs": [
    {
     "name": "stdout",
     "output_type": "stream",
     "text": [
      "\n",
      "Training Dataset Distribution:\n",
      "--------------------------------------------------\n",
      "Emotion    Label    Count    Percentage\n",
      "--------------------------------------------------\n",
      "sadness    0        4666      29.16%\n",
      "joy        1        5362      33.51%\n",
      "love       2        1304       8.15%\n",
      "anger      3        2159      13.49%\n",
      "fear       4        1937      12.11%\n",
      "surprise   5        572        3.58%\n",
      "\n",
      "Total samples: 16000\n",
      "\n",
      "Validation Dataset Distribution:\n",
      "--------------------------------------------------\n",
      "Emotion    Label    Count    Percentage\n",
      "--------------------------------------------------\n",
      "sadness    0        550       27.50%\n",
      "joy        1        704       35.20%\n",
      "love       2        178        8.90%\n",
      "anger      3        275       13.75%\n",
      "fear       4        212       10.60%\n",
      "surprise   5        81         4.05%\n",
      "\n",
      "Total samples: 2000\n",
      "\n",
      "Test Dataset Distribution:\n",
      "--------------------------------------------------\n",
      "Emotion    Label    Count    Percentage\n",
      "--------------------------------------------------\n",
      "sadness    0        581       29.05%\n",
      "joy        1        695       34.75%\n",
      "love       2        159        7.95%\n",
      "anger      3        275       13.75%\n",
      "fear       4        224       11.20%\n",
      "surprise   5        66         3.30%\n",
      "\n",
      "Total samples: 2000\n"
     ]
    }
   ],
   "source": [
    "def print_emotion_distribution(df, dataset_name):\n",
    "    total = len(df)\n",
    "    distribution = df['label'].value_counts()\n",
    "    percentages = (distribution / total * 100).round(2)\n",
    "    \n",
    "    print(f\"\\n{dataset_name} Dataset Distribution:\")\n",
    "    print(\"-\" * 50)\n",
    "    print(f\"{'Emotion':<10} {'Label':<8} {'Count':<8} {'Percentage':<10}\")\n",
    "    print(\"-\" * 50)\n",
    "    \n",
    "    label_to_emotion = {\n",
    "        0: 'sadness',\n",
    "        1: 'joy',\n",
    "        2: 'love',\n",
    "        3: 'anger',\n",
    "        4: 'fear',\n",
    "        5: 'surprise'\n",
    "    }\n",
    "    \n",
    "    for label in sorted(distribution.index):\n",
    "        count = distribution[label]\n",
    "        percentage = percentages[label]\n",
    "        emotion = label_to_emotion[label]\n",
    "        print(f\"{emotion:<10} {label:<8} {count:<8} {percentage:>6.2f}%\")\n",
    "    \n",
    "    print(f\"\\nTotal samples: {total}\")\n",
    "\n",
    "# Distribution for each dataset\n",
    "print_emotion_distribution(df_train, \"Training\")\n",
    "print_emotion_distribution(df_val, \"Validation\")\n",
    "print_emotion_distribution(df_test, \"Test\")"
   ]
  },
  {
   "cell_type": "code",
   "execution_count": 2,
   "metadata": {},
   "outputs": [
    {
     "data": {
      "application/vnd.microsoft.datawrangler.viewer.v0+json": {
       "columns": [
        {
         "name": "index",
         "rawType": "int64",
         "type": "integer"
        },
        {
         "name": "text",
         "rawType": "object",
         "type": "string"
        },
        {
         "name": "label",
         "rawType": "int64",
         "type": "integer"
        }
       ],
       "conversionMethod": "pd.DataFrame",
       "ref": "9868a145-b143-4c06-9dfc-249b9065dd89",
       "rows": [
        [
         "0",
         "i didnt feel humiliated",
         "0"
        ],
        [
         "1",
         "i can go from feeling so hopeless to so damned hopeful just from being around someone who cares and is awake",
         "0"
        ],
        [
         "2",
         "im grabbing a minute to post i feel greedy wrong",
         "3"
        ],
        [
         "3",
         "i am ever feeling nostalgic about the fireplace i will know that it is still on the property",
         "2"
        ],
        [
         "4",
         "i am feeling grouchy",
         "3"
        ],
        [
         "5",
         "ive been feeling a little burdened lately wasnt sure why that was",
         "0"
        ],
        [
         "6",
         "ive been taking or milligrams or times recommended amount and ive fallen asleep a lot faster but i also feel like so funny",
         "5"
        ],
        [
         "7",
         "i feel as confused about life as a teenager or as jaded as a year old man",
         "4"
        ],
        [
         "8",
         "i have been with petronas for years i feel that petronas has performed well and made a huge profit",
         "1"
        ],
        [
         "9",
         "i feel romantic too",
         "2"
        ],
        [
         "10",
         "i feel like i have to make the suffering i m seeing mean something",
         "0"
        ],
        [
         "11",
         "i do feel that running is a divine experience and that i can expect to have some type of spiritual encounter",
         "1"
        ],
        [
         "12",
         "i think it s the easiest time of year to feel dissatisfied",
         "3"
        ],
        [
         "13",
         "i feel low energy i m just thirsty",
         "0"
        ],
        [
         "14",
         "i have immense sympathy with the general point but as a possible proto writer trying to find time to write in the corners of life and with no sign of an agent let alone a publishing contract this feels a little precious",
         "1"
        ],
        [
         "15",
         "i do not feel reassured anxiety is on each side",
         "1"
        ],
        [
         "16",
         "i didnt really feel that embarrassed",
         "0"
        ],
        [
         "17",
         "i feel pretty pathetic most of the time",
         "0"
        ],
        [
         "18",
         "i started feeling sentimental about dolls i had as a child and so began a collection of vintage barbie dolls from the sixties",
         "0"
        ],
        [
         "19",
         "i now feel compromised and skeptical of the value of every unit of work i put in",
         "4"
        ],
        [
         "20",
         "i feel irritated and rejected without anyone doing anything or saying anything",
         "3"
        ],
        [
         "21",
         "i am feeling completely overwhelmed i have two strategies that help me to feel grounded pour my heart out in my journal in the form of a letter to god and then end with a list of five things i am most grateful for",
         "4"
        ],
        [
         "22",
         "i have the feeling she was amused and delighted",
         "1"
        ],
        [
         "23",
         "i was able to help chai lifeline with your support and encouragement is a great feeling and i am so glad you were able to help me",
         "1"
        ],
        [
         "24",
         "i already feel like i fucked up though because i dont usually eat at all in the morning",
         "3"
        ],
        [
         "25",
         "i still love my so and wish the best for him i can no longer tolerate the effect that bm has on our lives and the fact that is has turned my so into a bitter angry person who is not always particularly kind to the people around him when he is feeling stressed",
         "0"
        ],
        [
         "26",
         "i feel so inhibited in someone elses kitchen like im painting on someone elses picture",
         "0"
        ],
        [
         "27",
         "i become overwhelmed and feel defeated",
         "0"
        ],
        [
         "28",
         "i feel kinda appalled that she feels like she needs to explain in wide and lenghth her body measures etc pp",
         "3"
        ],
        [
         "29",
         "i feel more superior dead chicken or grieving child",
         "1"
        ],
        [
         "30",
         "i get giddy over feeling elegant in a perfectly fitted pencil skirt",
         "1"
        ],
        [
         "31",
         "i remember feeling acutely distressed for a few days",
         "4"
        ],
        [
         "32",
         "i have seen heard and read over the past couple of days i am left feeling impressed by more than a few companies",
         "5"
        ],
        [
         "33",
         "i climbed the hill feeling frustrated that id pretty much paced entirely wrong for this course and that a factor that has never ever hampered me had made such a dent in the day",
         "3"
        ],
        [
         "34",
         "i can t imagine a real life scenario where i would be emotionally connected enough with someone to feel totally accepted and safe where it it morally acceptable for me to have close and prolonged physical contact and where sex won t be expected subsequently",
         "1"
        ],
        [
         "35",
         "i am not sure what would make me feel content if anything",
         "1"
        ],
        [
         "36",
         "i have been feeling the need to be creative",
         "1"
        ],
        [
         "37",
         "i do however want you to know that if something someone is causing you to feel less then your splendid self step away from them",
         "1"
        ],
        [
         "38",
         "i feel a bit rude writing to an elderly gentleman to ask for gifts because i feel a bit greedy but what is christmas about if not mild greed",
         "3"
        ],
        [
         "39",
         "i need you i need someone i need to be protected and feel safe i am small now i find myself in a season of no words",
         "1"
        ],
        [
         "40",
         "i plan to share my everyday life stories traveling adventures inspirations and handmade creations with you and hope you will also feel inspired",
         "1"
        ],
        [
         "41",
         "i already have my christmas trees up i got two and am feeling festive which i m sure is spurring me to get started on this book",
         "1"
        ],
        [
         "42",
         "ive worn it once on its own with a little concealer and for the days im feeling brave but dont want to be pale then its perfect",
         "1"
        ],
        [
         "43",
         "i feel very strongly passionate about when some jerk off decides to poke and make fun of us",
         "1"
        ],
        [
         "44",
         "i was feeling so discouraged we are already robbing peter to pay paul to get our cow this year but we cant afford to not get the cow this way",
         "0"
        ],
        [
         "45",
         "i was feeling listless from the need of new things something different",
         "0"
        ],
        [
         "46",
         "i lost my special mind but don t worry i m still sane i just wanted you to feel what i felt while reading this book i don t know how many times it was said that sam was special but i can guarantee you it was many more times than what i used in that paragraph did i tell you she was special",
         "1"
        ],
        [
         "47",
         "i can t let go of that sad feeling that i want to be accepted here in this first home of mine",
         "2"
        ],
        [
         "48",
         "on a boat trip to denmark",
         "1"
        ],
        [
         "49",
         "i stopped feeling cold and began feeling hot",
         "3"
        ]
       ],
       "shape": {
        "columns": 2,
        "rows": 16000
       }
      },
      "text/html": [
       "<div>\n",
       "<style scoped>\n",
       "    .dataframe tbody tr th:only-of-type {\n",
       "        vertical-align: middle;\n",
       "    }\n",
       "\n",
       "    .dataframe tbody tr th {\n",
       "        vertical-align: top;\n",
       "    }\n",
       "\n",
       "    .dataframe thead th {\n",
       "        text-align: right;\n",
       "    }\n",
       "</style>\n",
       "<table border=\"1\" class=\"dataframe\">\n",
       "  <thead>\n",
       "    <tr style=\"text-align: right;\">\n",
       "      <th></th>\n",
       "      <th>text</th>\n",
       "      <th>label</th>\n",
       "    </tr>\n",
       "  </thead>\n",
       "  <tbody>\n",
       "    <tr>\n",
       "      <th>0</th>\n",
       "      <td>i didnt feel humiliated</td>\n",
       "      <td>0</td>\n",
       "    </tr>\n",
       "    <tr>\n",
       "      <th>1</th>\n",
       "      <td>i can go from feeling so hopeless to so damned...</td>\n",
       "      <td>0</td>\n",
       "    </tr>\n",
       "    <tr>\n",
       "      <th>2</th>\n",
       "      <td>im grabbing a minute to post i feel greedy wrong</td>\n",
       "      <td>3</td>\n",
       "    </tr>\n",
       "    <tr>\n",
       "      <th>3</th>\n",
       "      <td>i am ever feeling nostalgic about the fireplac...</td>\n",
       "      <td>2</td>\n",
       "    </tr>\n",
       "    <tr>\n",
       "      <th>4</th>\n",
       "      <td>i am feeling grouchy</td>\n",
       "      <td>3</td>\n",
       "    </tr>\n",
       "    <tr>\n",
       "      <th>...</th>\n",
       "      <td>...</td>\n",
       "      <td>...</td>\n",
       "    </tr>\n",
       "    <tr>\n",
       "      <th>15995</th>\n",
       "      <td>i just had a very brief time in the beanbag an...</td>\n",
       "      <td>0</td>\n",
       "    </tr>\n",
       "    <tr>\n",
       "      <th>15996</th>\n",
       "      <td>i am now turning and i feel pathetic that i am...</td>\n",
       "      <td>0</td>\n",
       "    </tr>\n",
       "    <tr>\n",
       "      <th>15997</th>\n",
       "      <td>i feel strong and good overall</td>\n",
       "      <td>1</td>\n",
       "    </tr>\n",
       "    <tr>\n",
       "      <th>15998</th>\n",
       "      <td>i feel like this was such a rude comment and i...</td>\n",
       "      <td>3</td>\n",
       "    </tr>\n",
       "    <tr>\n",
       "      <th>15999</th>\n",
       "      <td>i know a lot but i feel so stupid because i ca...</td>\n",
       "      <td>0</td>\n",
       "    </tr>\n",
       "  </tbody>\n",
       "</table>\n",
       "<p>16000 rows × 2 columns</p>\n",
       "</div>"
      ],
      "text/plain": [
       "                                                    text  label\n",
       "0                                i didnt feel humiliated      0\n",
       "1      i can go from feeling so hopeless to so damned...      0\n",
       "2       im grabbing a minute to post i feel greedy wrong      3\n",
       "3      i am ever feeling nostalgic about the fireplac...      2\n",
       "4                                   i am feeling grouchy      3\n",
       "...                                                  ...    ...\n",
       "15995  i just had a very brief time in the beanbag an...      0\n",
       "15996  i am now turning and i feel pathetic that i am...      0\n",
       "15997                     i feel strong and good overall      1\n",
       "15998  i feel like this was such a rude comment and i...      3\n",
       "15999  i know a lot but i feel so stupid because i ca...      0\n",
       "\n",
       "[16000 rows x 2 columns]"
      ]
     },
     "execution_count": 2,
     "metadata": {},
     "output_type": "execute_result"
    }
   ],
   "source": [
    "df_train"
   ]
  },
  {
   "cell_type": "code",
   "execution_count": 3,
   "metadata": {},
   "outputs": [
    {
     "data": {
      "application/vnd.microsoft.datawrangler.viewer.v0+json": {
       "columns": [
        {
         "name": "index",
         "rawType": "int64",
         "type": "integer"
        },
        {
         "name": "text",
         "rawType": "object",
         "type": "string"
        },
        {
         "name": "label",
         "rawType": "int64",
         "type": "integer"
        }
       ],
       "conversionMethod": "pd.DataFrame",
       "ref": "583dee20-0256-421a-99b4-bbb1df1e7d64",
       "rows": [
        [
         "0",
         "im feeling quite sad and sorry for myself but ill snap out of it soon",
         "0"
        ],
        [
         "1",
         "i feel like i am still looking at a blank canvas blank pieces of paper",
         "0"
        ],
        [
         "2",
         "i feel like a faithful servant",
         "2"
        ],
        [
         "3",
         "i am just feeling cranky and blue",
         "3"
        ],
        [
         "4",
         "i can have for a treat or if i am feeling festive",
         "1"
        ],
        [
         "5",
         "i start to feel more appreciative of what god has done for me",
         "1"
        ],
        [
         "6",
         "i am feeling more confident that we will be able to take care of this baby",
         "1"
        ],
        [
         "7",
         "i feel incredibly lucky just to be able to talk to her",
         "1"
        ],
        [
         "8",
         "i feel less keen about the army every day",
         "1"
        ],
        [
         "9",
         "i feel dirty and ashamed for saying that",
         "0"
        ],
        [
         "10",
         "i feel bitchy but not defeated yet",
         "3"
        ],
        [
         "11",
         "i was dribbling on mums coffee table looking out of the window and feeling very happy",
         "1"
        ],
        [
         "12",
         "i woke up often got up around am feeling pukey radiation and groggy",
         "0"
        ],
        [
         "13",
         "i was feeling sentimental",
         "0"
        ],
        [
         "14",
         "i walked out of there an hour and fifteen minutes later feeling like i had been beaten with a stick and then placed on the rack and stretched",
         "0"
        ],
        [
         "15",
         "i never stop feeling thankful as to compare with others i considered myself lucky because i did not encounter ruthless pirates and i did not have to witness the slaughter of others",
         "1"
        ],
        [
         "16",
         "i didn t feel abused and quite honestly it made my day a little better",
         "0"
        ],
        [
         "17",
         "i know what it feels like he stressed glaring down at her as she squeezed more soap onto her sponge",
         "3"
        ],
        [
         "18",
         "i also loved that you could really feel the desperation in these sequences and i especially liked the emotion between knight and squire as theyve been together in a similar fashion to batman and robin for a long time now",
         "2"
        ],
        [
         "19",
         "i had lunch with an old friend and it was nice but in general im not feeling energetic",
         "1"
        ],
        [
         "20",
         "i just know to begin with i am going to feel shy about it",
         "4"
        ],
        [
         "21",
         "i feel try to tell me im ungrateful tell me im basically the worst daughter sister in the world",
         "0"
        ],
        [
         "22",
         "i feel that it is something that will never really be resolved",
         "1"
        ],
        [
         "23",
         "i just feel like all my efforts are in vain and a waste of time",
         "0"
        ],
        [
         "24",
         "i feel absolutely foolish for allowing myself to actually believe that this might be it for us the month weve been praying so hard for",
         "0"
        ],
        [
         "25",
         "i waited for an eternity for it to download and now im remembering a day when i had to wait to go to walmart to buy a whole cd just to hear one song and feeling kinda dumb with my impatience",
         "0"
        ],
        [
         "26",
         "i don t know if anybody will ever be able to feel how i feel or at least relate when everything is lost you find yourself missing and longing for it them",
         "0"
        ],
        [
         "27",
         "i feel as if i am the beloved preparing herself for the wedding",
         "1"
        ],
        [
         "28",
         "i would feel i missed out on a wealth of treasures if i did not read",
         "0"
        ],
        [
         "29",
         "i finished the film i feel kind of regretful that i wasnt able to catch this on the big screen",
         "0"
        ],
        [
         "30",
         "i feel like im caring about my body not in just an attempt to be the right size but to feel good and have a full life",
         "2"
        ],
        [
         "31",
         "i feel so damaged i just want you to have care of me continuer",
         "0"
        ],
        [
         "32",
         "i have found in the past when i blog daily i have more to say and i get out my feelings and emotions in more creative ways",
         "1"
        ],
        [
         "33",
         "i to candy factory it was clearly a tourist production line but it didn t feel unpleasant or hurried just well planned and professional an interesting and picturesque visit",
         "0"
        ],
        [
         "34",
         "i feel that i m so pathetic and downright dumb to let people in let them toy with my feelings and then leaving me to clean up this pile of sadness inside me",
         "0"
        ],
        [
         "35",
         "i am feeling very blessed today that they share such a close bond",
         "1"
        ],
        [
         "36",
         "i constantly feel these fits of discontent",
         "0"
        ],
        [
         "37",
         "ive been consumed by guilt and other feelings of discontent",
         "0"
        ],
        [
         "38",
         "i feel like taking a whack at someone s eye and spitting on it a cranky old lady i try to cheer myself up",
         "3"
        ],
        [
         "39",
         "i feel really special and important",
         "1"
        ],
        [
         "40",
         "i sit the chicken preferably bone in chicken thighs skinless because i feel they have the most flavor in a crock pot so that it becomes tender and falls apart",
         "2"
        ],
        [
         "41",
         "i feel empty and i wait for new signs",
         "0"
        ],
        [
         "42",
         "i honestly do not feel discouraged today as i usually do",
         "0"
        ],
        [
         "43",
         "i only feel such an aching rush if im hearing it",
         "0"
        ],
        [
         "44",
         "i feel mmf and i cant be bothered to fight it",
         "3"
        ],
        [
         "45",
         "i cant sleep i switch on music if i need to wake up i switch on music if i feel morose music it is that comes to my rescue whenever i feel ecstatic the tunes are by my side if i want to meet my wild side hail music",
         "0"
        ],
        [
         "46",
         "i feel so discontent with this decision",
         "0"
        ],
        [
         "47",
         "i know it so difficult especially when you feel you have been wronged",
         "3"
        ],
        [
         "48",
         "i see the starlight caress your hair no more feel the tender kisses we used to share i close my eyes and clearly my heart remembers a thousand good byes could never put out the embers",
         "2"
        ],
        [
         "49",
         "i hope i m proved wrong but i can t see the england u international hitting double figures next season and unless they invest in the rest of the team to provide him with service i feel they re doomed",
         "0"
        ]
       ],
       "shape": {
        "columns": 2,
        "rows": 2000
       }
      },
      "text/html": [
       "<div>\n",
       "<style scoped>\n",
       "    .dataframe tbody tr th:only-of-type {\n",
       "        vertical-align: middle;\n",
       "    }\n",
       "\n",
       "    .dataframe tbody tr th {\n",
       "        vertical-align: top;\n",
       "    }\n",
       "\n",
       "    .dataframe thead th {\n",
       "        text-align: right;\n",
       "    }\n",
       "</style>\n",
       "<table border=\"1\" class=\"dataframe\">\n",
       "  <thead>\n",
       "    <tr style=\"text-align: right;\">\n",
       "      <th></th>\n",
       "      <th>text</th>\n",
       "      <th>label</th>\n",
       "    </tr>\n",
       "  </thead>\n",
       "  <tbody>\n",
       "    <tr>\n",
       "      <th>0</th>\n",
       "      <td>im feeling quite sad and sorry for myself but ...</td>\n",
       "      <td>0</td>\n",
       "    </tr>\n",
       "    <tr>\n",
       "      <th>1</th>\n",
       "      <td>i feel like i am still looking at a blank canv...</td>\n",
       "      <td>0</td>\n",
       "    </tr>\n",
       "    <tr>\n",
       "      <th>2</th>\n",
       "      <td>i feel like a faithful servant</td>\n",
       "      <td>2</td>\n",
       "    </tr>\n",
       "    <tr>\n",
       "      <th>3</th>\n",
       "      <td>i am just feeling cranky and blue</td>\n",
       "      <td>3</td>\n",
       "    </tr>\n",
       "    <tr>\n",
       "      <th>4</th>\n",
       "      <td>i can have for a treat or if i am feeling festive</td>\n",
       "      <td>1</td>\n",
       "    </tr>\n",
       "    <tr>\n",
       "      <th>...</th>\n",
       "      <td>...</td>\n",
       "      <td>...</td>\n",
       "    </tr>\n",
       "    <tr>\n",
       "      <th>1995</th>\n",
       "      <td>im having ssa examination tomorrow in the morn...</td>\n",
       "      <td>0</td>\n",
       "    </tr>\n",
       "    <tr>\n",
       "      <th>1996</th>\n",
       "      <td>i constantly worry about their fight against n...</td>\n",
       "      <td>1</td>\n",
       "    </tr>\n",
       "    <tr>\n",
       "      <th>1997</th>\n",
       "      <td>i feel its important to share this info for th...</td>\n",
       "      <td>1</td>\n",
       "    </tr>\n",
       "    <tr>\n",
       "      <th>1998</th>\n",
       "      <td>i truly feel that if you are passionate enough...</td>\n",
       "      <td>1</td>\n",
       "    </tr>\n",
       "    <tr>\n",
       "      <th>1999</th>\n",
       "      <td>i feel like i just wanna buy any cute make up ...</td>\n",
       "      <td>1</td>\n",
       "    </tr>\n",
       "  </tbody>\n",
       "</table>\n",
       "<p>2000 rows × 2 columns</p>\n",
       "</div>"
      ],
      "text/plain": [
       "                                                   text  label\n",
       "0     im feeling quite sad and sorry for myself but ...      0\n",
       "1     i feel like i am still looking at a blank canv...      0\n",
       "2                        i feel like a faithful servant      2\n",
       "3                     i am just feeling cranky and blue      3\n",
       "4     i can have for a treat or if i am feeling festive      1\n",
       "...                                                 ...    ...\n",
       "1995  im having ssa examination tomorrow in the morn...      0\n",
       "1996  i constantly worry about their fight against n...      1\n",
       "1997  i feel its important to share this info for th...      1\n",
       "1998  i truly feel that if you are passionate enough...      1\n",
       "1999  i feel like i just wanna buy any cute make up ...      1\n",
       "\n",
       "[2000 rows x 2 columns]"
      ]
     },
     "execution_count": 3,
     "metadata": {},
     "output_type": "execute_result"
    }
   ],
   "source": [
    "df_val"
   ]
  },
  {
   "cell_type": "code",
   "execution_count": 4,
   "metadata": {},
   "outputs": [
    {
     "data": {
      "application/vnd.microsoft.datawrangler.viewer.v0+json": {
       "columns": [
        {
         "name": "index",
         "rawType": "int64",
         "type": "integer"
        },
        {
         "name": "text",
         "rawType": "object",
         "type": "string"
        },
        {
         "name": "label",
         "rawType": "int64",
         "type": "integer"
        }
       ],
       "conversionMethod": "pd.DataFrame",
       "ref": "a3f9dc24-2a4c-4173-88af-fad121ed5431",
       "rows": [
        [
         "0",
         "im feeling rather rotten so im not very ambitious right now",
         "0"
        ],
        [
         "1",
         "im updating my blog because i feel shitty",
         "0"
        ],
        [
         "2",
         "i never make her separate from me because i don t ever want her to feel like i m ashamed with her",
         "0"
        ],
        [
         "3",
         "i left with my bouquet of red and yellow tulips under my arm feeling slightly more optimistic than when i arrived",
         "1"
        ],
        [
         "4",
         "i was feeling a little vain when i did this one",
         "0"
        ],
        [
         "5",
         "i cant walk into a shop anywhere where i do not feel uncomfortable",
         "4"
        ],
        [
         "6",
         "i felt anger when at the end of a telephone call",
         "3"
        ],
        [
         "7",
         "i explain why i clung to a relationship with a boy who was in many ways immature and uncommitted despite the excitement i should have been feeling for getting accepted into the masters program at the university of virginia",
         "1"
        ],
        [
         "8",
         "i like to have the same breathless feeling as a reader eager to see what will happen next",
         "1"
        ],
        [
         "9",
         "i jest i feel grumpy tired and pre menstrual which i probably am but then again its only been a week and im about as fit as a walrus on vacation for the summer",
         "3"
        ],
        [
         "10",
         "i don t feel particularly agitated",
         "4"
        ],
        [
         "11",
         "i feel beautifully emotional knowing that these women of whom i knew just a handful were holding me and my baba on our journey",
         "0"
        ],
        [
         "12",
         "i pay attention it deepens into a feeling of being invaded and helpless",
         "4"
        ],
        [
         "13",
         "i just feel extremely comfortable with the group of people that i dont even need to hide myself",
         "1"
        ],
        [
         "14",
         "i find myself in the odd position of feeling supportive of",
         "2"
        ],
        [
         "15",
         "i was feeling as heartbroken as im sure katniss was",
         "0"
        ],
        [
         "16",
         "i feel a little mellow today",
         "1"
        ],
        [
         "17",
         "i feel like my only role now would be to tear your sails with my pessimism and discontent",
         "0"
        ],
        [
         "18",
         "i feel just bcoz a fight we get mad to each other n u wanna make a publicity n let the world knows about our fight",
         "3"
        ],
        [
         "19",
         "i feel like reds and purples are just so rich and kind of perfect",
         "1"
        ],
        [
         "20",
         "im not sure the feeling of loss will ever go away but it may dull to a sweet feeling of nostalgia at what i shared in this life with my dad and the luck i had to have a dad for years",
         "0"
        ],
        [
         "21",
         "i feel like ive gotten to know many of you through comments and emails and for that im appreciative and glad you are a part of this little space",
         "1"
        ],
        [
         "22",
         "i survey my own posts over the last few years and only feel pleased with vague snippets of a few of them only feel that little bits of them capture what its like to be me or someone like me in dublin in the st century",
         "1"
        ],
        [
         "23",
         "i also tell you in hopes that anyone who is still feeling stigmatized or ashamed of their mental health issues will let go of the stigma let go of the shame",
         "0"
        ],
        [
         "24",
         "i don t feel guilty like i m not going to be able to cook for him",
         "0"
        ],
        [
         "25",
         "i hate it when i feel fearful for absolutely no reason",
         "4"
        ],
        [
         "26",
         "i am feeling outraged it shows everywhere",
         "3"
        ],
        [
         "27",
         "i stole a book from one of my all time favorite authors and now i feel like a rotten person",
         "0"
        ],
        [
         "28",
         "i do feel insecure sometimes but who doesnt",
         "4"
        ],
        [
         "29",
         "i highly recommend visiting on a wednesday if youre able because its less crowded so you get to ask the farmers more questions without feeling rude for holding up a line",
         "3"
        ],
        [
         "30",
         "ive been missing him and feeling so restless at home thinking of him",
         "4"
        ],
        [
         "31",
         "i posted on my facebook page earlier this week ive been feeling a little grumpy and out of sorts the past few days",
         "3"
        ],
        [
         "32",
         "i start to feel emotional",
         "0"
        ],
        [
         "33",
         "i feel so cold a href http irish",
         "3"
        ],
        [
         "34",
         "i feel like i m defective or something for not having baby fever",
         "0"
        ],
        [
         "35",
         "i feel more virtuous than when i eat veggies dipped in hummus",
         "1"
        ],
        [
         "36",
         "i feel very honoured to be included in a magzine which prioritises health and clean living so highly im curious do any of you read magazines concerned with health and clean lifestyles such as the green parent",
         "1"
        ],
        [
         "37",
         "i spent the last two weeks of school feeling miserable",
         "0"
        ],
        [
         "38",
         "im feeling very peaceful about our wedding again now after having",
         "1"
        ],
        [
         "39",
         "i had been talking to coach claudia barcomb and coach ali boe for a long time and they both made me feel very welcomed at union",
         "1"
        ],
        [
         "40",
         "i feel if i completely hated things i d exercise my democratic right speak my mind in what ever ways possible and try to enact a change",
         "3"
        ],
        [
         "41",
         "i feel humiliated embarrassed or foolish i will remember that others have felt the same way because of the same kinds of things and i will be kind and helpful and accepting",
         "0"
        ],
        [
         "42",
         "i feel reassured that i am dealing with my diet in the right way and that all is good",
         "1"
        ],
        [
         "43",
         "i feel i have to agree with her even though i can imagine some rather unpleasant possible cases",
         "0"
        ],
        [
         "44",
         "im in such a happy mood today i feel almost delighted and i havent done anything different today then i normally have it is wonderful",
         "1"
        ],
        [
         "45",
         "im feeling really out of place and irritated",
         "3"
        ],
        [
         "46",
         "i also know that i feel nothing than a friendly affection to them too",
         "1"
        ],
        [
         "47",
         "i feel like i had a rather productive weekend and i cant always say that no matter how much i get done",
         "1"
        ],
        [
         "48",
         "im feeling insecure at the moment",
         "4"
        ],
        [
         "49",
         "i was feeling pretty anxious all day but my first day at work was a very good day and that helped a lot",
         "4"
        ]
       ],
       "shape": {
        "columns": 2,
        "rows": 2000
       }
      },
      "text/html": [
       "<div>\n",
       "<style scoped>\n",
       "    .dataframe tbody tr th:only-of-type {\n",
       "        vertical-align: middle;\n",
       "    }\n",
       "\n",
       "    .dataframe tbody tr th {\n",
       "        vertical-align: top;\n",
       "    }\n",
       "\n",
       "    .dataframe thead th {\n",
       "        text-align: right;\n",
       "    }\n",
       "</style>\n",
       "<table border=\"1\" class=\"dataframe\">\n",
       "  <thead>\n",
       "    <tr style=\"text-align: right;\">\n",
       "      <th></th>\n",
       "      <th>text</th>\n",
       "      <th>label</th>\n",
       "    </tr>\n",
       "  </thead>\n",
       "  <tbody>\n",
       "    <tr>\n",
       "      <th>0</th>\n",
       "      <td>im feeling rather rotten so im not very ambiti...</td>\n",
       "      <td>0</td>\n",
       "    </tr>\n",
       "    <tr>\n",
       "      <th>1</th>\n",
       "      <td>im updating my blog because i feel shitty</td>\n",
       "      <td>0</td>\n",
       "    </tr>\n",
       "    <tr>\n",
       "      <th>2</th>\n",
       "      <td>i never make her separate from me because i do...</td>\n",
       "      <td>0</td>\n",
       "    </tr>\n",
       "    <tr>\n",
       "      <th>3</th>\n",
       "      <td>i left with my bouquet of red and yellow tulip...</td>\n",
       "      <td>1</td>\n",
       "    </tr>\n",
       "    <tr>\n",
       "      <th>4</th>\n",
       "      <td>i was feeling a little vain when i did this one</td>\n",
       "      <td>0</td>\n",
       "    </tr>\n",
       "    <tr>\n",
       "      <th>...</th>\n",
       "      <td>...</td>\n",
       "      <td>...</td>\n",
       "    </tr>\n",
       "    <tr>\n",
       "      <th>1995</th>\n",
       "      <td>i just keep feeling like someone is being unki...</td>\n",
       "      <td>3</td>\n",
       "    </tr>\n",
       "    <tr>\n",
       "      <th>1996</th>\n",
       "      <td>im feeling a little cranky negative after this...</td>\n",
       "      <td>3</td>\n",
       "    </tr>\n",
       "    <tr>\n",
       "      <th>1997</th>\n",
       "      <td>i feel that i am useful to my people and that ...</td>\n",
       "      <td>1</td>\n",
       "    </tr>\n",
       "    <tr>\n",
       "      <th>1998</th>\n",
       "      <td>im feeling more comfortable with derby i feel ...</td>\n",
       "      <td>1</td>\n",
       "    </tr>\n",
       "    <tr>\n",
       "      <th>1999</th>\n",
       "      <td>i feel all weird when i have to meet w people ...</td>\n",
       "      <td>4</td>\n",
       "    </tr>\n",
       "  </tbody>\n",
       "</table>\n",
       "<p>2000 rows × 2 columns</p>\n",
       "</div>"
      ],
      "text/plain": [
       "                                                   text  label\n",
       "0     im feeling rather rotten so im not very ambiti...      0\n",
       "1             im updating my blog because i feel shitty      0\n",
       "2     i never make her separate from me because i do...      0\n",
       "3     i left with my bouquet of red and yellow tulip...      1\n",
       "4       i was feeling a little vain when i did this one      0\n",
       "...                                                 ...    ...\n",
       "1995  i just keep feeling like someone is being unki...      3\n",
       "1996  im feeling a little cranky negative after this...      3\n",
       "1997  i feel that i am useful to my people and that ...      1\n",
       "1998  im feeling more comfortable with derby i feel ...      1\n",
       "1999  i feel all weird when i have to meet w people ...      4\n",
       "\n",
       "[2000 rows x 2 columns]"
      ]
     },
     "execution_count": 4,
     "metadata": {},
     "output_type": "execute_result"
    }
   ],
   "source": [
    "df_test"
   ]
  },
  {
   "cell_type": "code",
   "execution_count": null,
   "metadata": {},
   "outputs": [
    {
     "name": "stdout",
     "output_type": "stream",
     "text": [
      "\n",
      "Conversion complete.\n",
      "Successfully wrote 2000 lines to test.jsonl\n"
     ]
    }
   ],
   "source": [
    "import csv\n",
    "import json\n",
    "\n",
    "csv_file_path = 'test.csv'\n",
    "jsonl_file_path = 'test.jsonl'\n",
    "\n",
    "label_to_emotion = {\n",
    "    '0': 'sadness',\n",
    "    '1': 'joy',\n",
    "    '2': 'love',\n",
    "    '3': 'anger',\n",
    "    '4': 'fear',\n",
    "    '5': 'surprise'\n",
    "}\n",
    "\n",
    "system_prompt = \"\"\"\n",
    "            You are an empathetic mental health support chatbot. \n",
    "            Analyze the user's message to understand their core emotional state. \n",
    "            Identify and state the single primary emotion. \n",
    "            Only output one of these emotions as a response: sadness, joy, love, anger, fear, or surprise. \n",
    "            Do not output any other text.\n",
    "            \"\"\"\n",
    "\n",
    "\n",
    "try:\n",
    "    with open(csv_file_path, 'r', encoding='utf-8') as infile, \\\n",
    "         open(jsonl_file_path, 'w', encoding='utf-8') as outfile:\n",
    "\n",
    "        reader = csv.reader(infile)\n",
    "        header = next(reader)\n",
    "\n",
    "        if header != ['text', 'label']:\n",
    "             print(f\"Warning: Expected header ['text', 'label'], found {header}\")\n",
    "\n",
    "        line_count = 0\n",
    "        error_count = 0\n",
    "        for row in reader:\n",
    "            try:\n",
    "                if len(row) != 2:\n",
    "                    error_count += 1\n",
    "                    continue\n",
    "\n",
    "                text, label_str = row\n",
    "                emotion_name = label_to_emotion.get(label_str)\n",
    "\n",
    "                if not text:\n",
    "                     error_count += 1\n",
    "                     continue\n",
    "\n",
    "                if emotion_name is None:\n",
    "                    error_count += 1\n",
    "                    continue\n",
    "\n",
    "                json_object = {\n",
    "                    \"messages\": [\n",
    "                        {\"role\": \"system\", \"content\": system_prompt},\n",
    "                        {\"role\": \"user\", \"content\": text.strip()}, # Strip leading/trailing whitespace\n",
    "                        {\"role\": \"assistant\", \"content\": emotion_name}\n",
    "                    ]\n",
    "                }\n",
    "\n",
    "                outfile.write(json.dumps(json_object) + '\\n')\n",
    "                line_count += 1\n",
    "\n",
    "            except Exception as e:\n",
    "                print(f\"Error processing row: {row} - {e}\")\n",
    "                error_count += 1\n",
    "\n",
    "    print(f\"Wrote {line_count} lines to {jsonl_file_path}\")\n",
    "    if error_count > 0:\n",
    "        print(f\"Skipped {error_count} rows due to errors\")\n",
    "\n",
    "except FileNotFoundError:\n",
    "    print(f\"File '{csv_file_path}' not found\")"
   ]
  },
  {
   "cell_type": "code",
   "execution_count": null,
   "metadata": {},
   "outputs": [
    {
     "name": "stdout",
     "output_type": "stream",
     "text": [
      "Trimmed 100 records from train.jsonl and saved to train_small.jsonl\n",
      "Trimmed 50 records from val.jsonl and saved to val_small.jsonl\n",
      "Trimmed 10 records from test.jsonl and saved to test_small.jsonl\n"
     ]
    }
   ],
   "source": [
    "import random\n",
    "\n",
    "def trim_jsonl(input_file, output_file, num_records):\n",
    "    with open(input_file, 'r', encoding='utf-8') as infile, \\\n",
    "         open(output_file, 'w', encoding='utf-8') as outfile:\n",
    "        lines = infile.readlines()\n",
    "        random.shuffle(lines)\n",
    "        trimmed_lines = lines[:num_records]\n",
    "        outfile.writelines(trimmed_lines)\n",
    "        print(f\"Trimmed {num_records} records from {input_file} and saved to {output_file}\")\n",
    "\n",
    "# Randomly sample X records\n",
    "trim_jsonl('train.jsonl', 'train_100.jsonl', 100)\n",
    "trim_jsonl('val.jsonl', 'val_50.jsonl', 50)\n",
    "trim_jsonl('test.jsonl', 'test_10.jsonl', 10)"
   ]
  },
  {
   "cell_type": "code",
   "execution_count": null,
   "metadata": {},
   "outputs": [
    {
     "name": "stdout",
     "output_type": "stream",
     "text": [
      "Trimmed 1000 records from train.jsonl and saved to train_1000.jsonl\n",
      "Trimmed 2000 records from train.jsonl and saved to train_2000.jsonl\n",
      "Trimmed 3000 records from train.jsonl and saved to train_3000.jsonl\n",
      "Trimmed 4000 records from train.jsonl and saved to train_4000.jsonl\n",
      "Trimmed 5000 records from train.jsonl and saved to train_5000.jsonl\n",
      "Trimmed 6000 records from train.jsonl and saved to train_6000.jsonl\n",
      "Trimmed 7000 records from train.jsonl and saved to train_7000.jsonl\n",
      "Trimmed 8000 records from train.jsonl and saved to train_8000.jsonl\n",
      "Trimmed 9000 records from train.jsonl and saved to train_9000.jsonl\n",
      "Trimmed 10000 records from train.jsonl and saved to train_10000.jsonl\n",
      "Trimmed 100 records from val.jsonl and saved to val_100.jsonl\n",
      "Trimmed 200 records from val.jsonl and saved to val_200.jsonl\n",
      "Trimmed 300 records from val.jsonl and saved to val_300.jsonl\n",
      "Trimmed 400 records from val.jsonl and saved to val_400.jsonl\n",
      "Trimmed 500 records from val.jsonl and saved to val_500.jsonl\n",
      "Trimmed 600 records from val.jsonl and saved to val_600.jsonl\n",
      "Trimmed 700 records from val.jsonl and saved to val_700.jsonl\n",
      "Trimmed 800 records from val.jsonl and saved to val_800.jsonl\n",
      "Trimmed 900 records from val.jsonl and saved to val_900.jsonl\n",
      "Trimmed 1000 records from val.jsonl and saved to val_1000.jsonl\n"
     ]
    }
   ],
   "source": [
    "# Randomly sample X records\n",
    "trim_jsonl('train.jsonl', 'train_1000.jsonl', 1000)\n",
    "trim_jsonl('train.jsonl', 'train_2000.jsonl', 2000)\n",
    "trim_jsonl('train.jsonl', 'train_3000.jsonl', 3000)\n",
    "trim_jsonl('train.jsonl', 'train_4000.jsonl', 4000)\n",
    "trim_jsonl('train.jsonl', 'train_5000.jsonl', 5000)\n",
    "trim_jsonl('train.jsonl', 'train_6000.jsonl', 6000)\n",
    "trim_jsonl('train.jsonl', 'train_7000.jsonl', 7000)\n",
    "trim_jsonl('train.jsonl', 'train_8000.jsonl', 8000)\n",
    "trim_jsonl('train.jsonl', 'train_9000.jsonl', 9000)\n",
    "trim_jsonl('train.jsonl', 'train_10000.jsonl', 10000)\n",
    "\n",
    "trim_jsonl('val.jsonl', 'val_100.jsonl', 100)\n",
    "trim_jsonl('val.jsonl', 'val_200.jsonl', 200)\n",
    "trim_jsonl('val.jsonl', 'val_300.jsonl', 300)\n",
    "trim_jsonl('val.jsonl', 'val_400.jsonl', 400)\n",
    "trim_jsonl('val.jsonl', 'val_500.jsonl', 500)\n",
    "trim_jsonl('val.jsonl', 'val_600.jsonl', 600)\n",
    "trim_jsonl('val.jsonl', 'val_700.jsonl', 700)\n",
    "trim_jsonl('val.jsonl', 'val_800.jsonl', 800)\n",
    "trim_jsonl('val.jsonl', 'val_900.jsonl', 900)\n",
    "trim_jsonl('val.jsonl', 'val_1000.jsonl', 1000)\n"
   ]
  },
  {
   "cell_type": "code",
   "execution_count": null,
   "metadata": {},
   "outputs": [
    {
     "name": "stdout",
     "output_type": "stream",
     "text": [
      "\n",
      "Conversion complete.\n",
      "Successfully wrote to test_with_emotion.csv\n"
     ]
    }
   ],
   "source": [
    "# Do label-emotion mapping in CSV format\n",
    "import csv\n",
    "\n",
    "csv_file_path = 'test.csv'\n",
    "output_csv_file_path = 'test_with_emotion.csv'\n",
    "\n",
    "label_to_emotion = {\n",
    "    '0': 'sadness',\n",
    "    '1': 'joy',\n",
    "    '2': 'love',\n",
    "    '3': 'anger',\n",
    "    '4': 'fear',\n",
    "    '5': 'surprise'\n",
    "}\n",
    "\n",
    "try:\n",
    "    with open(csv_file_path, 'r', encoding='utf-8') as infile, \\\n",
    "         open(output_csv_file_path, 'w', encoding='utf-8', newline='') as outfile:\n",
    "\n",
    "        reader = csv.reader(infile)\n",
    "        writer = csv.writer(outfile)\n",
    "\n",
    "        header = next(reader) # Skip the header row\n",
    "        header.append('emotion') # Add the new column header\n",
    "        writer.writerow(header) # Write the header row to the output file\n",
    "\n",
    "        for row in reader:\n",
    "            text, label_str = row\n",
    "            emotion_name = label_to_emotion.get(label_str)\n",
    "            row.append(emotion_name) # Add the emotion name to the row\n",
    "            writer.writerow(row) # Write the row to the output file\n",
    "\n",
    "    print(f\"Wrote to {output_csv_file_path}\")\n",
    "    \n",
    "except FileNotFoundError:\n",
    "    print(f\"File '{csv_file_path}' not found\")\n"
   ]
  }
 ],
 "metadata": {
  "kernelspec": {
   "display_name": ".venv",
   "language": "python",
   "name": "python3"
  },
  "language_info": {
   "codemirror_mode": {
    "name": "ipython",
    "version": 3
   },
   "file_extension": ".py",
   "mimetype": "text/x-python",
   "name": "python",
   "nbconvert_exporter": "python",
   "pygments_lexer": "ipython3",
   "version": "3.13.2"
  }
 },
 "nbformat": 4,
 "nbformat_minor": 2
}
