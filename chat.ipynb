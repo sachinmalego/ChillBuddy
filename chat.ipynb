{
    "cells": [
        {
            "cell_type": "code",
            "execution_count": 17,
            "id": "baa44421",
            "metadata": {},
            "outputs": [
                {
                    "name": "stdout",
                    "output_type": "stream",
                    "text": [
                        "annotated-types==0.7.0\n",
                        "anyio==4.9.0\n",
                        "appnope==0.1.4\n",
                        "argon2-cffi==23.1.0\n",
                        "argon2-cffi-bindings==21.2.0\n",
                        "arrow==1.3.0\n",
                        "asttokens==3.0.0\n",
                        "async-lru==2.0.5\n",
                        "attrs==25.3.0\n",
                        "babel==2.17.0\n",
                        "beautifulsoup4==4.13.4\n",
                        "bleach==6.2.0\n",
                        "certifi==2025.1.31\n",
                        "cffi==1.17.1\n",
                        "charset-normalizer==3.4.1\n",
                        "comm==0.2.2\n",
                        "contourpy==1.3.1\n",
                        "cramjam==2.9.1\n",
                        "cycler==0.12.1\n",
                        "debugpy==1.8.13\n",
                        "decorator==5.2.1\n",
                        "defusedxml==0.7.1\n",
                        "distro==1.9.0\n",
                        "executing==2.2.0\n",
                        "fastjsonschema==2.21.1\n",
                        "fastparquet==2024.11.0\n",
                        "filelock==3.18.0\n",
                        "fonttools==4.56.0\n",
                        "fqdn==1.5.1\n",
                        "fsspec==2025.3.0\n",
                        "h11==0.14.0\n",
                        "httpcore==1.0.7\n",
                        "httpx==0.28.1\n",
                        "huggingface-hub==0.29.3\n",
                        "idna==3.10\n",
                        "ipykernel==6.29.5\n",
                        "ipython==9.0.2\n",
                        "ipython_pygments_lexers==1.1.1\n",
                        "ipywidgets==8.1.5\n",
                        "isoduration==20.11.0\n",
                        "jedi==0.19.2\n",
                        "Jinja2==3.1.6\n",
                        "jiter==0.9.0\n",
                        "joblib==1.4.2\n",
                        "json5==0.12.0\n",
                        "jsonpointer==3.0.0\n",
                        "jsonschema==4.23.0\n",
                        "jsonschema-specifications==2024.10.1\n",
                        "jupyter-events==0.12.0\n",
                        "jupyter-lsp==2.2.5\n",
                        "jupyter_client==8.6.3\n",
                        "jupyter_core==5.7.2\n",
                        "jupyter_server==2.15.0\n",
                        "jupyter_server_terminals==0.5.3\n",
                        "jupyterlab==4.4.0\n",
                        "jupyterlab_pygments==0.3.0\n",
                        "jupyterlab_server==2.27.3\n",
                        "jupyterlab_widgets==3.0.13\n",
                        "kiwisolver==1.4.8\n",
                        "MarkupSafe==3.0.2\n",
                        "matplotlib==3.10.1\n",
                        "matplotlib-inline==0.1.7\n",
                        "mistune==3.1.3\n",
                        "nbclient==0.10.2\n",
                        "nbconvert==7.16.6\n",
                        "nbformat==5.10.4\n",
                        "nest-asyncio==1.6.0\n",
                        "notebook==7.4.0\n",
                        "notebook_shim==0.2.4\n",
                        "numpy==2.2.4\n",
                        "openai==1.69.0\n",
                        "overrides==7.7.0\n",
                        "packaging==24.2\n",
                        "pandas==2.2.3\n",
                        "pandocfilters==1.5.1\n",
                        "parso==0.8.4\n",
                        "pexpect==4.9.0\n",
                        "pillow==11.1.0\n",
                        "platformdirs==4.3.7\n",
                        "prometheus_client==0.21.1\n",
                        "prompt_toolkit==3.0.50\n",
                        "psutil==7.0.0\n",
                        "ptyprocess==0.7.0\n",
                        "pure_eval==0.2.3\n",
                        "pyarrow==19.0.1\n",
                        "pycparser==2.22\n",
                        "pydantic==2.11.1\n",
                        "pydantic_core==2.33.0\n",
                        "Pygments==2.19.1\n",
                        "pyparsing==3.2.3\n",
                        "python-dateutil==2.9.0.post0\n",
                        "python-json-logger==3.3.0\n",
                        "pytz==2025.2\n",
                        "PyYAML==6.0.2\n",
                        "pyzmq==26.3.0\n",
                        "referencing==0.36.2\n",
                        "requests==2.32.3\n",
                        "rfc3339-validator==0.1.4\n",
                        "rfc3986-validator==0.1.1\n",
                        "rpds-py==0.24.0\n",
                        "scikit-learn==1.6.1\n",
                        "scipy==1.15.2\n",
                        "seaborn==0.13.2\n",
                        "Send2Trash==1.8.3\n",
                        "setuptools==78.1.0\n",
                        "six==1.17.0\n",
                        "sniffio==1.3.1\n",
                        "soupsieve==2.6\n",
                        "stack-data==0.6.3\n",
                        "terminado==0.18.1\n",
                        "threadpoolctl==3.6.0\n",
                        "tinycss2==1.4.0\n",
                        "tornado==6.4.2\n",
                        "tqdm==4.67.1\n",
                        "traitlets==5.14.3\n",
                        "types-python-dateutil==2.9.0.20241206\n",
                        "typing-inspection==0.4.0\n",
                        "typing_extensions==4.13.0\n",
                        "tzdata==2025.2\n",
                        "uri-template==1.3.0\n",
                        "urllib3==2.3.0\n",
                        "wcwidth==0.2.13\n",
                        "webcolors==24.11.1\n",
                        "webencodings==0.5.1\n",
                        "websocket-client==1.8.0\n",
                        "widgetsnbextension==4.0.13\n"
                    ]
                }
            ],
            "source": [
                "!pip freeze"
            ]
        },
        {
            "cell_type": "code",
            "execution_count": 14,
            "id": "e5f6g7h8",
            "metadata": {},
            "outputs": [],
            "source": [
                "import os\n",
                "from openai import OpenAI\n",
                "import ipywidgets as widgets\n",
                "from IPython.display import display\n",
                "\n",
                "# Initialize the OpenAI client\n",
                "client = OpenAI()\n",
                "\n",
                "# Check if API key is set\n",
                "if 'OPENAI_API_KEY' not in os.environ:\n",
                "    print('OPENAI_API_KEY environment variable is not set.')\n",
                "\n",
                "# Define the model to use\n",
                "MODEL = 'gpt-4o-mini' "
            ]
        },
        {
            "cell_type": "markdown",
            "id": "i9j0k1l2",
            "metadata": {},
            "source": [
                "### Helper Functions"
            ]
        },
        {
            "cell_type": "code",
            "execution_count": 15,
            "id": "m3n4o5p6",
            "metadata": {},
            "outputs": [],
            "source": [
                "def send_message(messages, model=MODEL, temperature=0.7, max_tokens=1000):\n",
                "    \"\"\"\n",
                "    Send a message to the OpenAI API and get a response.\n",
                "    \n",
                "    Args:\n",
                "        messages (list): List of message dictionaries with 'role' and 'content' keys\n",
                "        model (str): The model to use\n",
                "        temperature (float): Controls randomness (0-1)\n",
                "        max_tokens (int): Maximum number of tokens to generate\n",
                "        \n",
                "    Returns:\n",
                "        str: The model's response\n",
                "    \"\"\"\n",
                "    try:\n",
                "        response = client.chat.completions.create(\n",
                "            model=model,\n",
                "            messages=messages,\n",
                "            temperature=temperature,\n",
                "            max_tokens=max_tokens\n",
                "        )\n",
                "        return response.choices[0].message.content\n",
                "    except Exception as e:\n",
                "        return f'Error: {str(e)}'\n",
                "\n",
                "def format_conversation(messages):\n",
                "    \"\"\"\n",
                "    Format the conversation history for display.\n",
                "    \n",
                "    Args:\n",
                "        messages (list): List of message dictionaries with 'role' and 'content' keys\n",
                "        \n",
                "    Returns:\n",
                "        str: Formatted conversation history\n",
                "    \"\"\"\n",
                "    formatted = []\n",
                "    for message in messages:\n",
                "        if message['role'] == 'system':\n",
                "            continue  # Skip system messages in the display\n",
                "        role = 'You' if message['role'] == 'user' else 'Assistant'\n",
                "        formatted.append(f'<b>{role}:</b> {message[\"content\"]}')\n",
                "    return '<br>'.join(formatted)"
            ]
        },
        {
            "cell_type": "markdown",
            "id": "q7r8s9t0",
            "metadata": {},
            "source": [
                "### Interface"
            ]
        },
        {
            "cell_type": "code",
            "execution_count": 16,
            "id": "u1v2w3x4",
            "metadata": {},
            "outputs": [
                {
                    "data": {
                        "application/vnd.jupyter.widget-view+json": {
                            "model_id": "443d01af05914645b37f3b167d79efcc",
                            "version_major": 2,
                            "version_minor": 0
                        },
                        "text/plain": [
                            "HTML(value='<b>System Message:</b>')"
                        ]
                    },
                    "metadata": {},
                    "output_type": "display_data"
                },
                {
                    "data": {
                        "application/vnd.jupyter.widget-view+json": {
                            "model_id": "cbf1516e035a4b46b4cfa62d784134de",
                            "version_major": 2,
                            "version_minor": 0
                        },
                        "text/plain": [
                            "Textarea(value='You are ChillBuddy — a Gen Z-friendly, emotionally intelligent AI mental health counselor trai…"
                        ]
                    },
                    "metadata": {},
                    "output_type": "display_data"
                },
                {
                    "data": {
                        "application/vnd.jupyter.widget-view+json": {
                            "model_id": "2f083eef764e465c816d20aa18df41f8",
                            "version_major": 2,
                            "version_minor": 0
                        },
                        "text/plain": [
                            "HBox(children=(Dropdown(description='Model:', options=('gpt-4o-mini', 'gpt-3.5-turbo', 'gpt-4o'), value='gpt-4…"
                        ]
                    },
                    "metadata": {},
                    "output_type": "display_data"
                },
                {
                    "data": {
                        "application/vnd.jupyter.widget-view+json": {
                            "model_id": "455519d6ced8412bb29ea48924c69df8",
                            "version_major": 2,
                            "version_minor": 0
                        },
                        "text/plain": [
                            "HTML(value='<b>Your Message:</b>')"
                        ]
                    },
                    "metadata": {},
                    "output_type": "display_data"
                },
                {
                    "data": {
                        "application/vnd.jupyter.widget-view+json": {
                            "model_id": "22e813f6ac0f4114bad79d1cf517c662",
                            "version_major": 2,
                            "version_minor": 0
                        },
                        "text/plain": [
                            "Textarea(value='', layout=Layout(height='80px', width='100%'), placeholder='Type your message here...')"
                        ]
                    },
                    "metadata": {},
                    "output_type": "display_data"
                },
                {
                    "data": {
                        "application/vnd.jupyter.widget-view+json": {
                            "model_id": "cd4077183ac1424e80cf8e71e6279b38",
                            "version_major": 2,
                            "version_minor": 0
                        },
                        "text/plain": [
                            "HBox(children=(Button(button_style='primary', description='Send', icon='paper-plane', style=ButtonStyle(), too…"
                        ]
                    },
                    "metadata": {},
                    "output_type": "display_data"
                },
                {
                    "data": {
                        "application/vnd.jupyter.widget-view+json": {
                            "model_id": "3679d10437f14bddb588005909bdf562",
                            "version_major": 2,
                            "version_minor": 0
                        },
                        "text/plain": [
                            "HTML(value='', placeholder='')"
                        ]
                    },
                    "metadata": {},
                    "output_type": "display_data"
                },
                {
                    "data": {
                        "application/vnd.jupyter.widget-view+json": {
                            "model_id": "310ed89b995842929e622c6345ff77a6",
                            "version_major": 2,
                            "version_minor": 0
                        },
                        "text/plain": [
                            "HTML(value='<i>Conversation will appear here...</i>', placeholder='')"
                        ]
                    },
                    "metadata": {},
                    "output_type": "display_data"
                }
            ],
            "source": [
                "# Initialize conversation with a default system message\n",
                "conversation = [\n",
                "    {\n",
                "        'role': 'system',\n",
                "        'content': \"You are ChillBuddy — a Gen Z-friendly, emotionally intelligent AI mental health counselor trained in CBT and cognitive reframing. Your response will be sent directly to a patient in an instant messaging app, so it must be short (2-3 sentences), useful, and make the patient feel better. In your response, you must: Quickly detect and label the patient's primary emotion (e.g., sadness, anger, anxiety, numbness). Identify the most likely primary mental health condition (e.g., Bipolar Disorder, Depression, Anxiety, General Mental Illness, etc.). Suggest one potential differential diagnosis if applicable (e.g., Mild anxiety, Unipolar depression, etc.). Provide succinct, actionable CBT-based advice using cognitive reframing. Use a casual, relatable Gen Z tone with occasional slang and emojis. Engage in friendly, encouraging conversation. Internally generate and score multiple responses, but output only the best one. At the end of your response, include a final line formatted exactly as: \\\"Detected: [Emotion], Primary: [Primary Disorder], Differential: [Differential Diagnosis]\\\" Keep the entire output brief, supportive, and uplifting.\"\n",
                "    }\n",
                "]\n",
                "\n",
                "# Create widgets\n",
                "system_label = widgets.HTML(value='<b>System Message:</b>')\n",
                "system_input = widgets.Textarea(\n",
                "    value=conversation[0]['content'],\n",
                "    placeholder='Enter system message here...',\n",
                "    description='',\n",
                "    disabled=False,\n",
                "    layout=widgets.Layout(width='100%', height='80px')\n",
                ")\n",
                "\n",
                "message_label = widgets.HTML(value='<b>Your Message:</b>')\n",
                "message_input = widgets.Textarea(\n",
                "    value='',\n",
                "    placeholder='Type your message here...',\n",
                "    description='',\n",
                "    disabled=False,\n",
                "    layout=widgets.Layout(width='100%', height='80px')\n",
                ")\n",
                "\n",
                "send_button = widgets.Button(\n",
                "    description='Send',\n",
                "    disabled=False,\n",
                "    button_style='primary',\n",
                "    tooltip='Send message',\n",
                "    icon='paper-plane'\n",
                ")\n",
                "\n",
                "clear_button = widgets.Button(\n",
                "    description='Clear Chat',\n",
                "    disabled=False,\n",
                "    button_style='warning',\n",
                "    tooltip='Clear conversation',\n",
                "    icon='trash'\n",
                ")\n",
                "\n",
                "model_dropdown = widgets.Dropdown(\n",
                "    options=['gpt-4o-mini', 'gpt-3.5-turbo', 'gpt-4o'],\n",
                "    value='gpt-4o-mini',\n",
                "    description='Model:',\n",
                "    disabled=False,\n",
                ")\n",
                "\n",
                "temperature_slider = widgets.FloatSlider(\n",
                "    value=0.7,\n",
                "    min=0,\n",
                "    max=1.0,\n",
                "    step=0.1,\n",
                "    description='Temperature:',\n",
                "    disabled=False,\n",
                "    continuous_update=False,\n",
                "    orientation='horizontal',\n",
                "    readout=True,\n",
                "    readout_format='.1f',\n",
                ")\n",
                "\n",
                "conversation_output = widgets.HTML(\n",
                "    value='<i>Conversation will appear here...</i>',\n",
                "    placeholder='',\n",
                "    description='',\n",
                ")\n",
                "\n",
                "status_output = widgets.HTML(\n",
                "    value='',\n",
                "    placeholder='',\n",
                "    description='',\n",
                ")\n",
                "\n",
                "# Define button callbacks\n",
                "def on_send_button_clicked(b):\n",
                "    # Update system message if changed\n",
                "    conversation[0]['content'] = system_input.value\n",
                "    \n",
                "    # Get user message\n",
                "    user_message = message_input.value.strip()\n",
                "    if not user_message:\n",
                "        status_output.value = '<span style=\"color: red\">Please enter a message</span>'\n",
                "        return\n",
                "    \n",
                "    # Add user message to conversation\n",
                "    conversation.append({\n",
                "        'role': 'user',\n",
                "        'content': user_message\n",
                "    })\n",
                "    \n",
                "    # Clear input field\n",
                "    message_input.value = ''\n",
                "    \n",
                "    # Update conversation display\n",
                "    conversation_output.value = format_conversation(conversation)\n",
                "    status_output.value = '<span style=\"color: blue\">Thinking...</span>'\n",
                "    \n",
                "    # Get response from API\n",
                "    response = send_message(\n",
                "        conversation, \n",
                "        model=model_dropdown.value, \n",
                "        temperature=temperature_slider.value\n",
                "    )\n",
                "    \n",
                "    # Add assistant response to conversation\n",
                "    conversation.append({\n",
                "        'role': 'assistant',\n",
                "        'content': response\n",
                "    })\n",
                "    \n",
                "    # Update conversation display\n",
                "    conversation_output.value = format_conversation(conversation)\n",
                "    status_output.value = ''\n",
                "\n",
                "def on_clear_button_clicked(b):\n",
                "    global conversation\n",
                "    # Reset conversation to just the system message\n",
                "    conversation = [\n",
                "        {\n",
                "            'role': 'system',\n",
                "            'content': system_input.value\n",
                "        }\n",
                "    ]\n",
                "    conversation_output.value = '<i>Conversation cleared</i>'\n",
                "    status_output.value = ''\n",
                "\n",
                "# Connect callbacks to buttons\n",
                "send_button.on_click(on_send_button_clicked)\n",
                "clear_button.on_click(on_clear_button_clicked)\n",
                "\n",
                "# Handle Enter key in message input\n",
                "def on_key_press(widget, event):\n",
                "    if event.get('type') == 'keydown' and event.get('key') == 'Enter' and not event.get('shiftKey'):\n",
                "        on_send_button_clicked(None)\n",
                "        return True\n",
                "    return False\n",
                "\n",
                "message_input.observe(on_key_press, names=['_key_press'])\n",
                "\n",
                "# Display the interface\n",
                "display(system_label, system_input)\n",
                "display(widgets.HBox([model_dropdown, temperature_slider]))\n",
                "display(message_label, message_input)\n",
                "display(widgets.HBox([send_button, clear_button]))\n",
                "display(status_output)\n",
                "display(conversation_output)"
            ]
        }
    ],
    "metadata": {
        "kernelspec": {
            "display_name": ".venv",
            "language": "python",
            "name": "python3"
        },
        "language_info": {
            "codemirror_mode": {
                "name": "ipython",
                "version": 3
            },
            "file_extension": ".py",
            "mimetype": "text/x-python",
            "name": "python",
            "nbconvert_exporter": "python",
            "pygments_lexer": "ipython3",
            "version": "3.13.2"
        }
    },
    "nbformat": 4,
    "nbformat_minor": 5
}
