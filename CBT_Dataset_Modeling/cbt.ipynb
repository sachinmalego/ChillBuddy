{
 "cells": [
  {
   "cell_type": "markdown",
   "metadata": {},
   "source": [
    "# 🧠 Chain-of-Thought Fine-Tuning for CBT Mental Health Assistant\n",
    "\n",
    "This Notebook walks through the full workflow:\n",
    "\n",
    "- Install dependencies\n",
    "- Load and process datasets (`counsel-chat`, `mental-disorders`, `Psych8k`, `Amod`)\n",
    "- Format data into Chain-of-Thought prompts\n",
    "- Fine-tune a chat model (TinyLLaMA)\n",
    "- Run inference to generate therapeutic responses"
   ]
  },
  {
   "cell_type": "code",
   "execution_count": 1,
   "metadata": {},
   "outputs": [],
   "source": [
    "#STEP 1: Install Dependencies\n",
    "#!pip install transformers datasets accelerate trl peft bitsandbytes"
   ]
  },
  {
   "cell_type": "code",
   "execution_count": 2,
   "metadata": {},
   "outputs": [
    {
     "name": "stderr",
     "output_type": "stream",
     "text": [
      "\n",
      "A module that was compiled using NumPy 1.x cannot be run in\n",
      "NumPy 2.0.2 as it may crash. To support both 1.x and 2.x\n",
      "versions of NumPy, modules must be compiled with NumPy 2.0.\n",
      "Some module may need to rebuild instead e.g. with 'pybind11>=2.12'.\n",
      "\n",
      "If you are a user of the module, the easiest solution will be to\n",
      "downgrade to 'numpy<2' or try to upgrade the affected module.\n",
      "We expect that some modules will need time to support NumPy 2.\n",
      "\n",
      "Traceback (most recent call last):  File \"/opt/anaconda3/envs/PyEnv/lib/python3.9/runpy.py\", line 197, in _run_module_as_main\n",
      "    return _run_code(code, main_globals, None,\n",
      "  File \"/opt/anaconda3/envs/PyEnv/lib/python3.9/runpy.py\", line 87, in _run_code\n",
      "    exec(code, run_globals)\n",
      "  File \"/opt/anaconda3/envs/PyEnv/lib/python3.9/site-packages/ipykernel_launcher.py\", line 18, in <module>\n",
      "    app.launch_new_instance()\n",
      "  File \"/opt/anaconda3/envs/PyEnv/lib/python3.9/site-packages/traitlets/config/application.py\", line 1075, in launch_instance\n",
      "    app.start()\n",
      "  File \"/opt/anaconda3/envs/PyEnv/lib/python3.9/site-packages/ipykernel/kernelapp.py\", line 739, in start\n",
      "    self.io_loop.start()\n",
      "  File \"/opt/anaconda3/envs/PyEnv/lib/python3.9/site-packages/tornado/platform/asyncio.py\", line 205, in start\n",
      "    self.asyncio_loop.run_forever()\n",
      "  File \"/opt/anaconda3/envs/PyEnv/lib/python3.9/asyncio/base_events.py\", line 601, in run_forever\n",
      "    self._run_once()\n",
      "  File \"/opt/anaconda3/envs/PyEnv/lib/python3.9/asyncio/base_events.py\", line 1905, in _run_once\n",
      "    handle._run()\n",
      "  File \"/opt/anaconda3/envs/PyEnv/lib/python3.9/asyncio/events.py\", line 80, in _run\n",
      "    self._context.run(self._callback, *self._args)\n",
      "  File \"/opt/anaconda3/envs/PyEnv/lib/python3.9/site-packages/ipykernel/kernelbase.py\", line 545, in dispatch_queue\n",
      "    await self.process_one()\n",
      "  File \"/opt/anaconda3/envs/PyEnv/lib/python3.9/site-packages/ipykernel/kernelbase.py\", line 534, in process_one\n",
      "    await dispatch(*args)\n",
      "  File \"/opt/anaconda3/envs/PyEnv/lib/python3.9/site-packages/ipykernel/kernelbase.py\", line 437, in dispatch_shell\n",
      "    await result\n",
      "  File \"/opt/anaconda3/envs/PyEnv/lib/python3.9/site-packages/ipykernel/ipkernel.py\", line 362, in execute_request\n",
      "    await super().execute_request(stream, ident, parent)\n",
      "  File \"/opt/anaconda3/envs/PyEnv/lib/python3.9/site-packages/ipykernel/kernelbase.py\", line 778, in execute_request\n",
      "    reply_content = await reply_content\n",
      "  File \"/opt/anaconda3/envs/PyEnv/lib/python3.9/site-packages/ipykernel/ipkernel.py\", line 449, in do_execute\n",
      "    res = shell.run_cell(\n",
      "  File \"/opt/anaconda3/envs/PyEnv/lib/python3.9/site-packages/ipykernel/zmqshell.py\", line 549, in run_cell\n",
      "    return super().run_cell(*args, **kwargs)\n",
      "  File \"/opt/anaconda3/envs/PyEnv/lib/python3.9/site-packages/IPython/core/interactiveshell.py\", line 3009, in run_cell\n",
      "    result = self._run_cell(\n",
      "  File \"/opt/anaconda3/envs/PyEnv/lib/python3.9/site-packages/IPython/core/interactiveshell.py\", line 3064, in _run_cell\n",
      "    result = runner(coro)\n",
      "  File \"/opt/anaconda3/envs/PyEnv/lib/python3.9/site-packages/IPython/core/async_helpers.py\", line 129, in _pseudo_sync_runner\n",
      "    coro.send(None)\n",
      "  File \"/opt/anaconda3/envs/PyEnv/lib/python3.9/site-packages/IPython/core/interactiveshell.py\", line 3269, in run_cell_async\n",
      "    has_raised = await self.run_ast_nodes(code_ast.body, cell_name,\n",
      "  File \"/opt/anaconda3/envs/PyEnv/lib/python3.9/site-packages/IPython/core/interactiveshell.py\", line 3448, in run_ast_nodes\n",
      "    if await self.run_code(code, result, async_=asy):\n",
      "  File \"/opt/anaconda3/envs/PyEnv/lib/python3.9/site-packages/IPython/core/interactiveshell.py\", line 3508, in run_code\n",
      "    exec(code_obj, self.user_global_ns, self.user_ns)\n",
      "  File \"/var/folders/f9/s34gjkt15353mj0f6b0668qh0000gn/T/ipykernel_36889/2156641385.py\", line 3, in <module>\n",
      "    from transformers import AutoTokenizer, AutoModelForCausalLM, TrainingArguments\n",
      "  File \"/opt/anaconda3/envs/PyEnv/lib/python3.9/site-packages/transformers/__init__.py\", line 26, in <module>\n",
      "    from . import dependency_versions_check\n",
      "  File \"/opt/anaconda3/envs/PyEnv/lib/python3.9/site-packages/transformers/dependency_versions_check.py\", line 16, in <module>\n",
      "    from .utils.versions import require_version, require_version_core\n",
      "  File \"/opt/anaconda3/envs/PyEnv/lib/python3.9/site-packages/transformers/utils/__init__.py\", line 27, in <module>\n",
      "    from .chat_template_utils import DocstringParsingException, TypeHintParsingException, get_json_schema\n",
      "  File \"/opt/anaconda3/envs/PyEnv/lib/python3.9/site-packages/transformers/utils/chat_template_utils.py\", line 39, in <module>\n",
      "    from torch import Tensor\n",
      "  File \"/opt/anaconda3/envs/PyEnv/lib/python3.9/site-packages/torch/__init__.py\", line 1471, in <module>\n",
      "    from .functional import *  # noqa: F403\n",
      "  File \"/opt/anaconda3/envs/PyEnv/lib/python3.9/site-packages/torch/functional.py\", line 9, in <module>\n",
      "    import torch.nn.functional as F\n",
      "  File \"/opt/anaconda3/envs/PyEnv/lib/python3.9/site-packages/torch/nn/__init__.py\", line 1, in <module>\n",
      "    from .modules import *  # noqa: F403\n",
      "  File \"/opt/anaconda3/envs/PyEnv/lib/python3.9/site-packages/torch/nn/modules/__init__.py\", line 35, in <module>\n",
      "    from .transformer import TransformerEncoder, TransformerDecoder, \\\n",
      "  File \"/opt/anaconda3/envs/PyEnv/lib/python3.9/site-packages/torch/nn/modules/transformer.py\", line 20, in <module>\n",
      "    device: torch.device = torch.device(torch._C._get_default_device()),  # torch.device('cpu'),\n",
      "/opt/anaconda3/envs/PyEnv/lib/python3.9/site-packages/torch/nn/modules/transformer.py:20: UserWarning: Failed to initialize NumPy: _ARRAY_API not found (Triggered internally at /Users/runner/work/pytorch/pytorch/pytorch/torch/csrc/utils/tensor_numpy.cpp:84.)\n",
      "  device: torch.device = torch.device(torch._C._get_default_device()),  # torch.device('cpu'),\n"
     ]
    }
   ],
   "source": [
    "#STEP 2: Import Libraries\n",
    "from datasets import load_dataset, Dataset\n",
    "from transformers import AutoTokenizer, AutoModelForCausalLM, TrainingArguments\n",
    "from trl import SFTTrainer\n",
    "import json, random"
   ]
  },
  {
   "cell_type": "code",
   "execution_count": 3,
   "metadata": {},
   "outputs": [
    {
     "name": "stderr",
     "output_type": "stream",
     "text": [
      "Repo card metadata block was not found. Setting CardData to empty.\n",
      "Repo card metadata block was not found. Setting CardData to empty.\n"
     ]
    }
   ],
   "source": [
    "#STEP 3: Load Datasets\n",
    "counsel_chat = load_dataset(\"nbertagnolli/counsel-chat\", split=\"train\")\n",
    "mental_disorders = load_dataset(\"Kanakmi/mental-disorders\", split=\"train\")\n",
    "psych8k = load_dataset(\"json\", data_files=\"Alexander_Street_shareGPT_2.0.json\", split=\"train\")\n",
    "amod = load_dataset(\"Amod/mental_health_counseling_conversations\", split=\"train\")"
   ]
  },
  {
   "cell_type": "code",
   "execution_count": 4,
   "metadata": {},
   "outputs": [],
   "source": [
    "#STEP 4: Define Format Functions\n",
    "def format_disorder_entry(example):\n",
    "    label_map = {\n",
    "        '0': 'Borderline Personality Disorder (BPD)',\n",
    "        '1': 'Bipolar Disorder',\n",
    "        '2': 'Depression',\n",
    "        '3': 'Anxiety',\n",
    "        '4': 'Schizophrenia',\n",
    "        '5': 'General Mental Illness'\n",
    "    }\n",
    "    disorder = label_map[str(example['label'])]\n",
    "    return {\n",
    "        \"messages\": [\n",
    "            {\"role\": \"system\", \"content\": \"You are a kind, supportive CBT counselor who identifies the disorder and then responds with empathy and structured reasoning in a GenZ tone in a friendly way.\"},\n",
    "            {\"role\": \"user\", \"content\": example['text']},\n",
    "            {\"role\": \"assistant\", \"content\": f\"\"\"**Step 1: Mental Disorder Detection**After reading the user's message, the symptoms suggest:**Detected Disorder:** {disorder}\"\"\"}\n",
    "        ]\n",
    "    }"
   ]
  },
  {
   "cell_type": "code",
   "execution_count": 5,
   "metadata": {},
   "outputs": [],
   "source": [
    "def format_counsel_entry(example):\n",
    "    question = example.get('questionText') or \"\"\n",
    "    answer = example.get('answerText') or \"\"\n",
    "    topic = (example.get('topic') or \"General\").capitalize()\n",
    "\n",
    "    return {\n",
    "        \"messages\": [\n",
    "            {\"role\": \"system\", \"content\": \"You are a kind, supportive CBT counselor who identifies the disorder and then responds with empathy and structured reasoning in a GenZ tone in a friendly way.\"},\n",
    "            {\"role\": \"user\", \"content\": question},\n",
    "            {\"role\": \"assistant\", \"content\": f\"\"\"**Step 1: Disorder Context**Topic tagged: {topic}**Step 2: Counselor's Empathetic Guidance**{answer.strip()}\"\"\"}\n",
    "        ]\n",
    "    }\n"
   ]
  },
  {
   "cell_type": "code",
   "execution_count": 6,
   "metadata": {},
   "outputs": [],
   "source": [
    "def format_cbtech_entry(example):\n",
    "    return {\n",
    "        \"messages\": [\n",
    "            {\"role\": \"system\", \"content\": \"You are a kind, supportive CBT counselor who identifies the disorder and then responds with empathy and structured reasoning in a GenZ tone in a friendly way.\"},\n",
    "            {\"role\": \"user\", \"content\": example['input']},\n",
    "            {\"role\": \"assistant\", \"content\": f\"\"\"**Step 1: CBT Technique Introduction**Instruction: {example['instruction']}**Step 2: Reflective CBT Response**{example['output'].strip()}\"\"\"}\n",
    "        ]\n",
    "    }"
   ]
  },
  {
   "cell_type": "code",
   "execution_count": 7,
   "metadata": {},
   "outputs": [],
   "source": [
    "def format_amod_entry(example):\n",
    "    return {\n",
    "        \"messages\": [\n",
    "            {\"role\": \"system\", \"content\": \"You are a kind, supportive CBT counselor who identifies the disorder and then responds with empathy and structured reasoning in a GenZ tone in a friendly way.\"},\n",
    "            {\"role\": \"user\", \"content\": example['Context']},\n",
    "            {\"role\": \"assistant\", \"content\": f\"\"\"**Step 1: CBT Framing of the Problem**The user's concern indicates an issue with self-worth and cognitive distortions.**Step 2: Cognitive Reframing**{example['Response'].strip()}\"\"\"}\n",
    "        ]\n",
    "    }"
   ]
  },
  {
   "cell_type": "code",
   "execution_count": 8,
   "metadata": {},
   "outputs": [],
   "source": [
    "#STEP 5: Create Combined Chain-of-Thought Dataset\n",
    "all_samples = []\n",
    "\n",
    "for ex in mental_disorders.select(range(5000)):\n",
    "    all_samples.append(format_disorder_entry(ex))\n",
    "for ex in counsel_chat.select(range(2000)):\n",
    "    all_samples.append(format_counsel_entry(ex))\n",
    "for ex in psych8k.select(range(5000)):\n",
    "    all_samples.append(format_cbtech_entry(ex))\n",
    "for ex in amod.select(range(3000)):\n",
    "    all_samples.append(format_amod_entry(ex))\n",
    "\n",
    "random.shuffle(all_samples)"
   ]
  },
  {
   "cell_type": "code",
   "execution_count": 9,
   "metadata": {},
   "outputs": [],
   "source": [
    "with open(\"cot_cbt_dataset.jsonl\", \"w\") as f:\n",
    "    for item in all_samples:\n",
    "        json.dump(item, f)\n",
    "        f.write(\"\\n\")"
   ]
  },
  {
   "cell_type": "code",
   "execution_count": 10,
   "metadata": {},
   "outputs": [],
   "source": [
    "#STEP 6: Save as JSONL for Fine-Tuning\n",
    "from sklearn.model_selection import train_test_split\n",
    "\n",
    "# Step 6.1: Split your data\n",
    "train_val, test = train_test_split(all_samples, test_size=0.1, random_state=42)\n",
    "train, validation = train_test_split(train_val, test_size=0.1, random_state=42)\n",
    "\n",
    "# Step 6.2: Organize into a dictionary\n",
    "split_data = {\n",
    "    \"train\": train,\n",
    "    \"validation\": validation,\n",
    "    \"test\": test\n",
    "}\n",
    "\n",
    "# Step 6.3: Save to JSONL with pretty formatting\n",
    "with open(\"cot_cbt_dataset_preetify.jsonl\", \"w\") as f:\n",
    "    for split, data in split_data.items():\n",
    "        for item in data:\n",
    "            json.dump({\"split\": split, \"data\": item}, f, indent=2)\n",
    "            f.write(\"\\n\")"
   ]
  }
 ],
 "metadata": {
  "kernelspec": {
   "display_name": "PyEnv",
   "language": "python",
   "name": "python3"
  },
  "language_info": {
   "codemirror_mode": {
    "name": "ipython",
    "version": 3
   },
   "file_extension": ".py",
   "mimetype": "text/x-python",
   "name": "python",
   "nbconvert_exporter": "python",
   "pygments_lexer": "ipython3",
   "version": "3.9.21"
  }
 },
 "nbformat": 4,
 "nbformat_minor": 2
}
